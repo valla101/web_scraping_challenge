{
 "cells": [
  {
   "cell_type": "code",
   "execution_count": 1,
   "metadata": {},
   "outputs": [],
   "source": [
    "import pandas as pd\n",
    "from bs4 import BeautifulSoup\n",
    "from splinter import Browser"
   ]
  },
  {
   "cell_type": "code",
   "execution_count": 2,
   "metadata": {},
   "outputs": [],
   "source": [
    "executable_path = {'chromedriver.exe'}\n",
    "browser = Browser('chrome', headless=False)"
   ]
  },
  {
   "cell_type": "code",
   "execution_count": 3,
   "metadata": {},
   "outputs": [],
   "source": [
    "url = 'https://mars.nasa.gov/news/'\n",
    "browser.visit(url)"
   ]
  },
  {
   "cell_type": "code",
   "execution_count": 4,
   "metadata": {},
   "outputs": [],
   "source": [
    "html = browser.html\n",
    "soup = BeautifulSoup(html, 'html.parser')\n",
    "\n",
    "# headlines = soup.find_all('div', class_='content_title')\n",
    "# paragraphs = soup.find_all('div',class_='article_teaser_body')"
   ]
  },
  {
   "cell_type": "code",
   "execution_count": 22,
   "metadata": {},
   "outputs": [
    {
     "data": {
      "text/plain": [
       "<div class=\"content_title\"><a href=\"/news/8671/nasas-perseverance-rover-goes-through-trials-by-fire-ice-light-and-sound/\" target=\"_self\">NASA's Perseverance Rover Goes Through Trials by Fire, Ice, Light and Sound</a></div>"
      ]
     },
     "execution_count": 22,
     "metadata": {},
     "output_type": "execute_result"
    }
   ],
   "source": [
    "# headlines[1]"
   ]
  },
  {
   "cell_type": "code",
   "execution_count": 20,
   "metadata": {},
   "outputs": [
    {
     "data": {
      "text/plain": [
       "<div class=\"article_teaser_body\">The agency's new Mars rover is put through a series of tests in vacuum chambers, acoustic chambers and more to get ready for the Red Planet.</div>"
      ]
     },
     "execution_count": 20,
     "metadata": {},
     "output_type": "execute_result"
    }
   ],
   "source": [
    "# paragraphs[1]"
   ]
  },
  {
   "cell_type": "code",
   "execution_count": 48,
   "metadata": {},
   "outputs": [
    {
     "data": {
      "text/plain": [
       "<div class=\"list_text\"><div class=\"list_date\">May  1, 2020</div><div class=\"content_title\"><a href=\"/news/8663/nasas-perseverance-rover-will-look-at-mars-through-these-eyes/\" target=\"_self\">NASA's Perseverance Rover Will Look at Mars Through These 'Eyes'</a></div><div class=\"article_teaser_body\">A pair of zoomable cameras will help scientists and rover drivers with high-resolution color images.</div></div>"
      ]
     },
     "execution_count": 48,
     "metadata": {},
     "output_type": "execute_result"
    }
   ],
   "source": [
    "results = soup.find_all('div', class_='list_text')\n",
    "headlines = soup.find_all('div', class_='content_title')\n",
    "paragraphs = soup.find_all('div',class_='article_teaser_body')\n",
    "# results = soup.find_all('li', class_='slide')\n",
    "results[3]"
   ]
  },
  {
   "cell_type": "code",
   "execution_count": 63,
   "metadata": {},
   "outputs": [
    {
     "name": "stdout",
     "output_type": "stream",
     "text": [
      "NASA's Perseverance Rover Goes Through Trials by Fire, Ice, Light and Sound\n",
      "The agency's new Mars rover is put through a series of tests in vacuum chambers, acoustic chambers and more to get ready for the Red Planet.\n",
      "---------\n",
      "NASA's Perseverance Rover Mission Getting in Shape for Launch\n",
      "Stacking spacecraft components on top of each other is one of the final assembly steps before a mission launches to the Red Planet. \n",
      "---------\n",
      "NASA Perseverance Mars Rover Scientists Train in the Nevada Desert\n",
      "Team members searched for signs of ancient microscopic life there, just as NASA's latest rover will on the Red Planet next year.\n",
      "---------\n",
      "NASA's Perseverance Rover Will Look at Mars Through These 'Eyes'\n",
      "A pair of zoomable cameras will help scientists and rover drivers with high-resolution color images.\n",
      "---------\n",
      "Meet the People Behind NASA's Perseverance Rover\n",
      "These are the scientists and engineers who built NASA's next Mars rover and who will guide it to a safe landing in Jezero Crater. \n",
      "---------\n",
      "Q&A with the Student Who Named Ingenuity, NASA's Mars Helicopter\n",
      "As a longtime fan of space exploration, Vaneeza Rupani appreciates the creativity and collaboration involved with trying to fly on another planet.\n",
      "---------\n",
      "Alabama High School Student Names NASA's Mars Helicopter\n",
      "Vaneeza Rupani's essay was chosen as the name for the small spacecraft, which will mark NASA's first attempt at powered flight on another planet.\n",
      "---------\n",
      "How NASA's Perseverance Mars Team Adjusted to Work in the Time of Coronavirus \n",
      "Like much of the rest of the world, the Mars rover team is pushing forward with its mission-critical work while putting the health and safety of their colleagues and community first.\n",
      "---------\n",
      "NASA's Perseverance Mars Rover Gets Balanced\n",
      "The mission team performed a crucial weight-balancing test on the rover in preparation for this summer's history-making launch to the Red Planet.\n",
      "---------\n",
      "NASA's Curiosity Keeps Rolling As Team Operates Rover From Home\n",
      "The team has learned to meet new challenges as they work remotely on the Mars mission.\n",
      "---------\n",
      "Mars Helicopter Attached to NASA's Perseverance Rover\n",
      "The team also fueled the rover's sky crane to get ready for this summer's history-making launch.\n",
      "---------\n",
      "NASA's Perseverance Mars Rover Gets Its Wheels and Air Brakes\n",
      "After the rover was shipped from JPL to Kennedy Space Center, the team is getting closer to finalizing the spacecraft for launch later this summer.\n",
      "---------\n",
      "The Man Who Wanted to Fly on Mars\n",
      "The Mars Helicopter is riding to the Red Planet this summer with NASA's Perseverance rover. The helicopter's chief engineer, Bob Balaram, shares the saga of how it came into being.\n",
      "---------\n",
      "10.9 Million Names Now Aboard NASA's Perseverance Mars Rover\n",
      "As part of NASA's 'Send Your Name to Mars' campaign, they've been stenciled onto three microchips along with essays from NASA's 'Name the Rover' contest. Next stop: Mars.\n",
      "---------\n",
      "NASA's Curiosity Mars Rover Takes a New Selfie Before Record Climb\n",
      "Along with capturing an image before its steepest ascent ever, the robotic explorer filmed its \"selfie stick,\" or robotic arm, in action.\n",
      "---------\n",
      "NASA's Mars Perseverance Rover Gets Its Sample Handling System\n",
      "The system will be collecting and storing Martian rock and soil. Its installation marks another milestone in the march toward the July launch period.\n",
      "---------\n",
      "Virginia Middle School Student Earns Honor of Naming NASA's Next Mars Rover\n",
      "NASA chose a seventh-grader from Virginia as winner of the agency's \"Name the Rover\" essay contest. Alexander Mather's entry for \"Perseverance\" was voted tops among 28,000 entries. \n",
      "---------\n",
      "NASA's Curiosity Mars Rover Snaps Its Highest-Resolution Panorama Yet\n",
      "To go along with the stunning 1.8-billion-pixel image, a new video offers a sweeping view of the Red Planet.\n",
      "---------\n",
      "NASA to Reveal Name of Its Next Mars Rover\n",
      "After a months-long contest among students to name NASA's newest Mars rover, the agency will reveal the winning name — and the winning student — this Thursday. \n",
      "---------\n",
      "The MarCO Mission Comes to an End\n",
      "The pair of briefcase-sized satellites made history when they sailed past Mars in 2019.\n",
      "---------\n",
      "A Year of Surprising Science From NASA's InSight Mars Mission\n",
      "A batch of new papers summarizes the lander's findings above and below the surface of the Red Planet.\n",
      "---------\n",
      "Mars InSight Lander to Push on Top of the 'Mole'\n",
      "Engineers have a plan for pushing down on the heat probe, which has been stuck at the Martian surface for a year.\n",
      "---------\n",
      "Common Questions about InSight's 'Mole'\n",
      "The following Q&As with members of the team answer some of the most common questions about the burrowing device, part of a science instrument called the Heat Flow and Physical Properties Package (HP3).\n",
      "---------\n",
      "NASA Adds Return Sample Scientists to Mars 2020 Leadership Team\n",
      "The leadership council for Mars 2020 science added two new members who represent the interests of scientists destined to handle and study the first samples from Red Planet.\n",
      "---------\n",
      "NASA's Mars Reconnaissance Orbiter Undergoes Memory Update\n",
      "Other orbiters will continue relaying data from Mars surface missions for a two-week period.\n",
      "---------\n",
      "NASA's Mars 2020 Rover Goes Coast-to-Coast to Prep for Launch\n",
      "The agency's first step in returning rocks from Mars just arrived at Kennedy Space Center. The Mars 2020 team now begins readying for a launch to the Red Planet this July.\n",
      "---------\n",
      "NASA Prepares for Moon and Mars With New Addition to Its Deep Space Network\n",
      "Robotic spacecraft will be able to communicate with the dish using radio waves and lasers.\n",
      "---------\n",
      "NASA Administrator Statement on Moon to Mars Initiative, FY 2021 Budget\n",
      "Jim Bridenstine addresses NASA's ambitious plans for the coming years, including Mars Sample Return.\n",
      "---------\n",
      "All About the Laser (and Microphone) Atop Mars 2020, NASA's Next Rover\n",
      "SuperCam is a rock-vaporizing instrument that will help scientists hunt for Mars fossils.\n",
      "---------\n",
      "NASA's MAVEN Explores Mars to Understand Radio Interference at Earth\n",
      "NASA’s MAVEN spacecraft has discovered “layers” and “rifts” in the electrically charged part of the upper atmosphere of Mars.\n",
      "---------\n",
      "Nine Finalists Chosen in NASA's Mars 2020 Rover Naming Contest\n",
      "Nine finalists have been chosen in the essay contest for K-12 students across U.S. to name NASA's next Mars rover. Now you can help by voting for your favorite. \n",
      "---------\n",
      "NASA's Mars 2020 Rover Closer to Getting Its Name\n",
      "155 students from across the U.S. have been chosen as semifinalists in NASA's essay contest to name the Mars 2020 rover, and see it launch from Cape Canaveral this July.\n",
      "---------\n",
      "Media Get a Close-Up of NASA's Mars 2020 Rover\n",
      "The clean room at NASA's Jet Propulsion Laboratory was open to the media to see NASA's next Mars explorer before it leaves for Florida in preparation for a summertime launch.\n",
      "---------\n",
      "Space History Is Made in This NASA Robot Factory\n",
      "From rockets to rovers, JPL's Spacecraft Assembly Facility has been at the center of robotic spaceflight. Here's a closer look at what makes it so special.\n",
      "---------\n",
      "NASA's Mars 2020 Rover Completes Its First Drive\n",
      "In a 10-plus-hour marathon, the rover steered, turned and drove in 3-foot (1-meter) increments over small ramps.\n",
      "---------\n",
      "NASA's MAVEN Maps Winds in the Martian Upper Atmosphere that Mirror the Terrain Below and Gives Clues to Martian Climate\n",
      "Researchers have created the first map of wind circulation in the upper atmosphere of a planet besides Earth, using data from NASA’s MAVEN spacecraft that were collected during the last two years.\n",
      "---------\n",
      "Newfound Martian Aurora Actually the Most Common; Sheds Light on Mars' Changing Climate\n",
      "A type of Martian aurora first identified by NASA’s MAVEN spacecraft in 2016 is actually the most common form of aurora occurring on the Red Planet, according to new results from the mission.\n",
      "---------\n",
      "NASA's Treasure Map for Water Ice on Mars\n",
      "A new study identifies frozen water just below the Martian surface, where astronauts could easily dig it up.\n",
      "---------\n",
      "Two Rovers to Roll on Mars Again: Curiosity and Mars 2020\n",
      "They look like twins. But under the hood, the rover currently exploring the Red Planet and the one launching there this summer have distinct science tools and roles to play.\n",
      "---------\n",
      "NASA's Briefcase-Size MarCO Satellite Picks Up Honors\n",
      "The twin spacecraft, the first of their kind to fly into deep space, earn a Laureate from Aviation Week & Space Technology.\n",
      "---------\n"
     ]
    }
   ],
   "source": [
    "# collect the latest News Title and Paragraph Text. Assign the text to variables that you can reference later.\n",
    "for result in results:\n",
    "#     print(result.text)\n",
    "    headline = result.find('div', class_='content_title').text\n",
    "    paragraph = result.find('div', class_='article_teaser_body').text\n",
    "    print(headline)\n",
    "    print(paragraph)\n",
    "    print(\"---------\")\n",
    "\n",
    "\n",
    "#     browser.click_link_by_partial_text('More')"
   ]
  },
  {
   "cell_type": "code",
   "execution_count": 46,
   "metadata": {},
   "outputs": [
    {
     "ename": "LookupError",
     "evalue": "unknown encoding: https://mars.nasa.gov/news/",
     "output_type": "error",
     "traceback": [
      "\u001b[1;31m---------------------------------------------------------------------------\u001b[0m",
      "\u001b[1;31mLookupError\u001b[0m                               Traceback (most recent call last)",
      "\u001b[1;32m<ipython-input-46-bd81d8b55d11>\u001b[0m in \u001b[0;36m<module>\u001b[1;34m\u001b[0m\n\u001b[1;32m----> 1\u001b[1;33m \u001b[0msoup\u001b[0m\u001b[1;33m.\u001b[0m\u001b[0mprettify\u001b[0m\u001b[1;33m(\u001b[0m\u001b[0murl\u001b[0m\u001b[1;33m)\u001b[0m\u001b[1;33m\u001b[0m\u001b[1;33m\u001b[0m\u001b[0m\n\u001b[0m",
      "\u001b[1;32mC:\\ProgramData\\Anaconda3\\lib\\site-packages\\bs4\\element.py\u001b[0m in \u001b[0;36mprettify\u001b[1;34m(self, encoding, formatter)\u001b[0m\n\u001b[0;32m   1577\u001b[0m             \u001b[1;32mreturn\u001b[0m \u001b[0mself\u001b[0m\u001b[1;33m.\u001b[0m\u001b[0mdecode\u001b[0m\u001b[1;33m(\u001b[0m\u001b[1;32mTrue\u001b[0m\u001b[1;33m,\u001b[0m \u001b[0mformatter\u001b[0m\u001b[1;33m=\u001b[0m\u001b[0mformatter\u001b[0m\u001b[1;33m)\u001b[0m\u001b[1;33m\u001b[0m\u001b[1;33m\u001b[0m\u001b[0m\n\u001b[0;32m   1578\u001b[0m         \u001b[1;32melse\u001b[0m\u001b[1;33m:\u001b[0m\u001b[1;33m\u001b[0m\u001b[1;33m\u001b[0m\u001b[0m\n\u001b[1;32m-> 1579\u001b[1;33m             \u001b[1;32mreturn\u001b[0m \u001b[0mself\u001b[0m\u001b[1;33m.\u001b[0m\u001b[0mencode\u001b[0m\u001b[1;33m(\u001b[0m\u001b[0mencoding\u001b[0m\u001b[1;33m,\u001b[0m \u001b[1;32mTrue\u001b[0m\u001b[1;33m,\u001b[0m \u001b[0mformatter\u001b[0m\u001b[1;33m=\u001b[0m\u001b[0mformatter\u001b[0m\u001b[1;33m)\u001b[0m\u001b[1;33m\u001b[0m\u001b[1;33m\u001b[0m\u001b[0m\n\u001b[0m\u001b[0;32m   1580\u001b[0m \u001b[1;33m\u001b[0m\u001b[0m\n\u001b[0;32m   1581\u001b[0m     def decode_contents(self, indent_level=None,\n",
      "\u001b[1;32mC:\\ProgramData\\Anaconda3\\lib\\site-packages\\bs4\\element.py\u001b[0m in \u001b[0;36mencode\u001b[1;34m(self, encoding, indent_level, formatter, errors)\u001b[0m\n\u001b[0;32m   1447\u001b[0m         \u001b[1;31m# Unicode.\u001b[0m\u001b[1;33m\u001b[0m\u001b[1;33m\u001b[0m\u001b[1;33m\u001b[0m\u001b[0m\n\u001b[0;32m   1448\u001b[0m         \u001b[0mu\u001b[0m \u001b[1;33m=\u001b[0m \u001b[0mself\u001b[0m\u001b[1;33m.\u001b[0m\u001b[0mdecode\u001b[0m\u001b[1;33m(\u001b[0m\u001b[0mindent_level\u001b[0m\u001b[1;33m,\u001b[0m \u001b[0mencoding\u001b[0m\u001b[1;33m,\u001b[0m \u001b[0mformatter\u001b[0m\u001b[1;33m)\u001b[0m\u001b[1;33m\u001b[0m\u001b[1;33m\u001b[0m\u001b[0m\n\u001b[1;32m-> 1449\u001b[1;33m         \u001b[1;32mreturn\u001b[0m \u001b[0mu\u001b[0m\u001b[1;33m.\u001b[0m\u001b[0mencode\u001b[0m\u001b[1;33m(\u001b[0m\u001b[0mencoding\u001b[0m\u001b[1;33m,\u001b[0m \u001b[0merrors\u001b[0m\u001b[1;33m)\u001b[0m\u001b[1;33m\u001b[0m\u001b[1;33m\u001b[0m\u001b[0m\n\u001b[0m\u001b[0;32m   1450\u001b[0m \u001b[1;33m\u001b[0m\u001b[0m\n\u001b[0;32m   1451\u001b[0m     def decode(self, indent_level=None,\n",
      "\u001b[1;31mLookupError\u001b[0m: unknown encoding: https://mars.nasa.gov/news/"
     ]
    }
   ],
   "source": [
    "header = result.find('h1', class_='article-item__headline').text"
   ]
  },
  {
   "cell_type": "code",
   "execution_count": null,
   "metadata": {},
   "outputs": [],
   "source": []
  }
 ],
 "metadata": {
  "kernelspec": {
   "display_name": "Python 3",
   "language": "python",
   "name": "python3"
  },
  "language_info": {
   "codemirror_mode": {
    "name": "ipython",
    "version": 3
   },
   "file_extension": ".py",
   "mimetype": "text/x-python",
   "name": "python",
   "nbconvert_exporter": "python",
   "pygments_lexer": "ipython3",
   "version": "3.7.6"
  }
 },
 "nbformat": 4,
 "nbformat_minor": 4
}
